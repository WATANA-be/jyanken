{
 "cells": [
  {
   "cell_type": "code",
   "execution_count": null,
   "metadata": {},
   "outputs": [],
   "source": [
    "import random"
   ]
  },
  {
   "cell_type": "code",
   "execution_count": null,
   "metadata": {
    "scrolled": true
   },
   "outputs": [
    {
     "name": "stdout",
     "output_type": "stream",
     "text": [
      "じゃんけんぽい！g\n",
      "PC:チョキあなたグ―\n",
      "あなたグ―\n",
      "じゃんけんぽい！g\n",
      "PC:グーあなたグ―\n",
      "あなたグ―\n",
      "じゃんけんぽい！g\n",
      "PC:パーあなたグ―\n"
     ]
    }
   ],
   "source": [
    "import random\n",
    "kati=0\n",
    "hiki=0\n",
    "for i in range(10):\n",
    "    n = random.randint(1,3)\n",
    "    you = input('じゃんけんぽい！')\n",
    "    if n==1:\n",
    "        print('PC:グー',end='')\n",
    "        if you=='g':\n",
    "            print('あなたグ―')\n",
    "            hiki+=1\n",
    "        elif you=='c':\n",
    "            print('あなたチョキ')\n",
    "        else:\n",
    "            print('あなたパー')\n",
    "            kati +=1\n",
    "    elif n==2:\n",
    "        print('PC:チョキ',end='')\n",
    "        if you=='g':\n",
    "            print('あなたグ―')\n",
    "            kati+=1\n",
    "        elif you=='c':\n",
    "            print('あなたチョキ')\n",
    "            hiki+=1\n",
    "        else:\n",
    "            print('あなたパー')\n",
    "    else:\n",
    "            print('PC:パー',end='')\n",
    "    if you=='g':\n",
    "        print('あなたグ―')\n",
    "    elif you=='c':\n",
    "        print('あなたチョキ')\n",
    "        kati+=1\n",
    "    else:\n",
    "        print('あなたパー')\n",
    "        hiki+=1\n",
    "        \n",
    "\n",
    "print('引き分け：{}回'.format(hiki))\n",
    "print('負け：{}回'.format(10-kati-hiki))\n",
    "print('勝ち：{}回'.format(kati))\n",
    "              "
   ]
  },
  {
   "cell_type": "code",
   "execution_count": null,
   "metadata": {},
   "outputs": [],
   "source": []
  },
  {
   "cell_type": "code",
   "execution_count": null,
   "metadata": {},
   "outputs": [],
   "source": []
  }
 ],
 "metadata": {
  "kernelspec": {
   "display_name": "Python 3",
   "language": "python",
   "name": "python3"
  },
  "language_info": {
   "codemirror_mode": {
    "name": "ipython",
    "version": 3
   },
   "file_extension": ".py",
   "mimetype": "text/x-python",
   "name": "python",
   "nbconvert_exporter": "python",
   "pygments_lexer": "ipython3",
   "version": "3.8.3"
  }
 },
 "nbformat": 4,
 "nbformat_minor": 4
}
